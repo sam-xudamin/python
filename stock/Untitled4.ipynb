{
 "cells": [
  {
   "cell_type": "code",
   "execution_count": 1,
   "metadata": {},
   "outputs": [
    {
     "ename": "NameError",
     "evalue": "name 'df_date' is not defined",
     "output_type": "error",
     "traceback": [
      "\u001b[1;31m---------------------------------------------------------------------------\u001b[0m",
      "\u001b[1;31mNameError\u001b[0m                                 Traceback (most recent call last)",
      "\u001b[1;32m<ipython-input-1-8d3c49b0397c>\u001b[0m in \u001b[0;36m<module>\u001b[1;34m\u001b[0m\n\u001b[0;32m     52\u001b[0m \u001b[1;32mimport\u001b[0m \u001b[0mpandas\u001b[0m \u001b[1;32mas\u001b[0m \u001b[0mpd\u001b[0m\u001b[1;33m\u001b[0m\u001b[1;33m\u001b[0m\u001b[0m\n\u001b[0;32m     53\u001b[0m \u001b[1;33m\u001b[0m\u001b[0m\n\u001b[1;32m---> 54\u001b[1;33m \u001b[1;32mfor\u001b[0m \u001b[0mi\u001b[0m \u001b[1;32min\u001b[0m \u001b[0mrange\u001b[0m\u001b[1;33m(\u001b[0m\u001b[0mlen\u001b[0m\u001b[1;33m(\u001b[0m\u001b[0mdf_date\u001b[0m\u001b[1;33m)\u001b[0m\u001b[1;33m)\u001b[0m\u001b[1;33m:\u001b[0m\u001b[1;33m\u001b[0m\u001b[1;33m\u001b[0m\u001b[0m\n\u001b[0m\u001b[0;32m     55\u001b[0m \u001b[1;33m\u001b[0m\u001b[0m\n\u001b[0;32m     56\u001b[0m     \u001b[0mp\u001b[0m \u001b[1;33m=\u001b[0m \u001b[0mdf_pork\u001b[0m\u001b[1;33m.\u001b[0m\u001b[0miloc\u001b[0m\u001b[1;33m[\u001b[0m\u001b[1;33m:\u001b[0m\u001b[1;33m,\u001b[0m\u001b[1;36m1\u001b[0m\u001b[1;33m]\u001b[0m\u001b[1;33m.\u001b[0m\u001b[0mtolist\u001b[0m\u001b[1;33m(\u001b[0m\u001b[1;33m)\u001b[0m\u001b[1;33m.\u001b[0m\u001b[0mindex\u001b[0m\u001b[1;33m(\u001b[0m\u001b[0mdf_date\u001b[0m\u001b[1;33m[\u001b[0m\u001b[0mi\u001b[0m\u001b[1;33m]\u001b[0m\u001b[1;33m)\u001b[0m\u001b[1;33m\u001b[0m\u001b[1;33m\u001b[0m\u001b[0m\n",
      "\u001b[1;31mNameError\u001b[0m: name 'df_date' is not defined"
     ]
    }
   ],
   "source": [
    "#1.创建数据库连接\n",
    "\n",
    "import pymysql\n",
    "\n",
    "def connect_db():\n",
    "    try:\n",
    "        #建立connect路径\n",
    "        conn = pymysql.connect(host = 'sql.b51.vhostgo.com', db = 'passvisor', user = 'passvisor', password = 'Xudamin123', charset = 'utf8')\n",
    "        #建立cursor\n",
    "        cur = conn.cursor()  \n",
    "        return conn, cur    #返回路径、cursor，供下文使用\n",
    "    except:\n",
    "        return False       #如上述代码请求不成功，返回False字样\n",
    "\n",
    "import datetime\n",
    "import pandas as pd\n",
    "\n",
    "def create_date(datestart,dateend):\n",
    "\n",
    "    # 转为日期格式\n",
    "    datestart=datetime.datetime.strptime(datestart,'%Y-%m-%d')\n",
    "    dateend=datetime.datetime.strptime(dateend,'%Y-%m-%d')\n",
    "    date_list = []\n",
    "    date_list.append(datestart.strftime('%Y-%m-%d'))\n",
    "    \n",
    "    while datestart<dateend:\n",
    "        # 日期叠加一天\n",
    "        datestart+=datetime.timedelta(days=+1)\n",
    "        # 日期转字符串存入列表\n",
    "        date_list.append(datestart.strftime('%Y-%m-%d'))\n",
    "    \n",
    "    return date_list\n",
    "\n",
    "#2.读取数据表\n",
    "\n",
    "import pandas as pd\n",
    "import pymysql\n",
    "\n",
    "def read_df_data(table_name):\n",
    "    if not connect_db() == False:                     #如果连接数据库没有不成功，\n",
    "        conn, cur = connect_db()                       #connect路径与cursor来自connect_db()\n",
    "        sql = 'select * from %s'%(table_name)         #sql指令执行全选数据表内容\n",
    "        db_data = pd.read_sql(sql = sql, con = conn) #用pandas格式读取\n",
    "    \n",
    "    df_origin = {}\n",
    "    \n",
    "    df_origin['date'] = db_data['date']\n",
    "    df_origin['price'] = db_data['price']\n",
    "    \n",
    "    return df_origin\n",
    "\n",
    "import pandas as pd\n",
    "\n",
    "for i in range(len(df_date)):\n",
    "    \n",
    "    p = df_pork.iloc[:,1].tolist().index(df_date[i])  \n",
    "    type(p)\n",
    "    k = df_pork.iloc[a,2]\n",
    "    df.append(k)\n",
    "    #print(df)"
   ]
  },
  {
   "cell_type": "code",
   "execution_count": 2,
   "metadata": {},
   "outputs": [],
   "source": [
    "import pymysql\n",
    "\n",
    "def connect_db():\n",
    "    try:\n",
    "        #建立connect路径\n",
    "        conn = pymysql.connect(host = 'sql.b51.vhostgo.com', db = 'passvisor', user = 'passvisor', password = 'Xudamin123', charset = 'utf8')\n",
    "        #建立cursor\n",
    "        cur = conn.cursor()  \n",
    "        return conn, cur    #返回路径、cursor，供下文使用\n",
    "    except:\n",
    "        return False       #如上述代码请求不成功，返回False字样"
   ]
  },
  {
   "cell_type": "code",
   "execution_count": 3,
   "metadata": {},
   "outputs": [],
   "source": [
    "conn, cur = connect_db()"
   ]
  },
  {
   "cell_type": "code",
   "execution_count": 8,
   "metadata": {},
   "outputs": [],
   "source": [
    "sql = 'show tables'"
   ]
  },
  {
   "cell_type": "code",
   "execution_count": 31,
   "metadata": {},
   "outputs": [
    {
     "data": {
      "text/plain": [
       "((2019, 2, 12.2757143293108),\n",
       " (2019, 3, 14.4399999803112),\n",
       " (2019, 4, 14.985666624705),\n",
       " (2019, 5, 15.0870968603319),\n",
       " (2019, 6, 16.5336666425069),\n",
       " (2019, 7, 18.4858064959126),\n",
       " (2019, 8, 23.0290321227043),\n",
       " (2019, 9, 27.9286668141683),\n",
       " (2019, 10, 35.4761288550592),\n",
       " (2019, 11, 35.600333404541),\n",
       " (2019, 12, 33.9077419157951),\n",
       " (2020, 1, 36.1032258310626),\n",
       " (2020, 2, 37.9963635531339))"
      ]
     },
     "execution_count": 31,
     "metadata": {},
     "output_type": "execute_result"
    }
   ],
   "source": [
    "cur.execute(sql)\n",
    "ave_month = cur.fetchall()\n",
    "ave_month"
   ]
  },
  {
   "cell_type": "code",
   "execution_count": 6,
   "metadata": {},
   "outputs": [],
   "source": [
    "sql = 'desc copredict_source_pork'"
   ]
  },
  {
   "cell_type": "code",
   "execution_count": 30,
   "metadata": {},
   "outputs": [],
   "source": [
    "sql = 'select year(date), month(date), avg(price) from copredict_source_pork group by year(date), month(date)'"
   ]
  },
  {
   "cell_type": "code",
   "execution_count": 29,
   "metadata": {},
   "outputs": [
    {
     "data": {
      "text/plain": [
       "((2019, 2, 12.2757143293108),\n",
       " (2019, 3, 14.4399999803112),\n",
       " (2019, 4, 14.985666624705),\n",
       " (2019, 5, 15.0870968603319),\n",
       " (2019, 6, 16.5336666425069),\n",
       " (2019, 7, 18.4858064959126),\n",
       " (2019, 8, 23.0290321227043),\n",
       " (2019, 9, 27.9286668141683),\n",
       " (2019, 10, 35.4761288550592),\n",
       " (2019, 11, 35.600333404541),\n",
       " (2019, 12, 33.9077419157951),\n",
       " (2020, 1, 36.1032258310626),\n",
       " (2020, 2, 37.9963635531339))"
      ]
     },
     "execution_count": 29,
     "metadata": {},
     "output_type": "execute_result"
    }
   ],
   "source": [
    "cur.execute(sql)\n",
    "ave_month = cur.fetchall()\n",
    "ave_month"
   ]
  },
  {
   "cell_type": "code",
   "execution_count": null,
   "metadata": {},
   "outputs": [],
   "source": []
  }
 ],
 "metadata": {
  "kernelspec": {
   "display_name": "Python 3",
   "language": "python",
   "name": "python3"
  },
  "language_info": {
   "codemirror_mode": {
    "name": "ipython",
    "version": 3
   },
   "file_extension": ".py",
   "mimetype": "text/x-python",
   "name": "python",
   "nbconvert_exporter": "python",
   "pygments_lexer": "ipython3",
   "version": "3.7.5"
  }
 },
 "nbformat": 4,
 "nbformat_minor": 2
}
