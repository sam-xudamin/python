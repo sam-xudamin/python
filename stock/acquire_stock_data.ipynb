{
 "cells": [
  {
   "cell_type": "code",
   "execution_count": 12,
   "metadata": {},
   "outputs": [
    {
     "name": "stdout",
     "output_type": "stream",
     "text": [
      "获取上交所和深交所股票日行情，每只股票保存到单独文件：\n",
      "获得股票总数： 3724 ，开始获取每个股票数据……\n",
      "文件 000001.SZ平安银行.csv 已存在，不重新获取数据。\n",
      "共3724只股票，已成功保存第1只股票，股票代码000001.SZ平安银行\n",
      "文件 000002.SZ万科A.csv 已存在，不重新获取数据。\n",
      "共3724只股票，已成功保存第2只股票，股票代码000002.SZ万科A\n",
      "文件 000004.SZ国农科技.csv 已存在，不重新获取数据。\n",
      "共3724只股票，已成功保存第3只股票，股票代码000004.SZ国农科技\n",
      "文件 000005.SZ世纪星源.csv 已存在，不重新获取数据。\n",
      "共3724只股票，已成功保存第4只股票，股票代码000005.SZ世纪星源\n",
      "文件 000006.SZ深振业A.csv 已存在，不重新获取数据。\n",
      "共3724只股票，已成功保存第5只股票，股票代码000006.SZ深振业A\n",
      "文件 000007.SZ全新好.csv 已存在，不重新获取数据。\n",
      "共3724只股票，已成功保存第6只股票，股票代码000007.SZ全新好\n",
      "文件 000008.SZ神州高铁.csv 已存在，不重新获取数据。\n",
      "共3724只股票，已成功保存第7只股票，股票代码000008.SZ神州高铁\n",
      "文件 000009.SZ中国宝安.csv 已存在，不重新获取数据。\n",
      "共3724只股票，已成功保存第8只股票，股票代码000009.SZ中国宝安\n",
      "文件 000010.SZST美丽.csv 已存在，不重新获取数据。\n",
      "共3724只股票，已成功保存第9只股票，股票代码000010.SZ*ST美丽\n",
      "文件 000011.SZ深物业A.csv 已存在，不重新获取数据。\n",
      "共3724只股票，已成功保存第10只股票，股票代码000011.SZ深物业A\n",
      "文件 000012.SZ南玻A.csv 已存在，不重新获取数据。\n",
      "共3724只股票，已成功保存第11只股票，股票代码000012.SZ南玻A\n",
      "全部完成！耗时：08:00:00。\n"
     ]
    }
   ],
   "source": [
    "#获取上交所和深交所股票日行情，每只股票保存到单独文件\n",
    "\n",
    "import tushare as ts\n",
    "import pandas as pd\n",
    "import time\n",
    "import os\n",
    "\n",
    "def main():\n",
    "    \n",
    "    #获得股票代码和股票名称\n",
    "    pro = ts.pro_api('f3bbc97d0ffbbed8666e6f7c82e712165950d048987f5d6cfbf1e0ce') #''的token可以到“https://tushare.pro/”注册获得    \n",
    "    try:\n",
    "        pool = pro.stock_basic(exchange = '', list_status = 'L', adj = 'qfq', fields = 'ts_code, name')\n",
    "    except:\n",
    "        print('获取数据API连接超时或受限，暂停5秒……')\n",
    "        time.sleep(5)\n",
    "        pool = pro.stock_basic(exchange = '', list_status = 'L', adj = 'qfq', fields = 'ts_code, name')\n",
    "        \n",
    "    print('获得股票总数：',len(pool),'，开始获取每个股票数据……')\n",
    "    \n",
    "\n",
    "    #根据股票代码，逐个获取股票行情数据\n",
    "    for i in range(len(pool.ts_code)):\n",
    "        \n",
    "        if i > 10: #在调试时，减少数据量。正常运行时关掉该判断（该行和下一行）\n",
    "            break\n",
    "        \n",
    "        fn = '{}{}.csv'.format(pool.ts_code[i], pool.name[i].lstrip('*')) #定义股票文件名称，注意删除停牌时的*标记\n",
    "        if os.path.isfile(fn) == False: #如果文件存在，就不再重新获取            \n",
    "            try:\n",
    "                df = pro.daily(ts_code = pool.ts_code[i]) #获取股票数据\n",
    "            except:\n",
    "                print('获取数据API连接超时或受限，暂停60秒……') #每分钟只能访问200次\n",
    "                time.sleep(60)\n",
    "                df = pro.daily(ts_code = pool.ts_code[i])\n",
    "            \n",
    "            df.to_csv(fn, index = False) #保存文件\n",
    "        else:\n",
    "            print('文件', fn, '已存在，不重新获取数据。')\n",
    "\n",
    "        print('共{}只股票，已成功保存第{}只股票，股票代码{}{}'.format(len(pool.ts_code), i + 1, pool.ts_code[i], pool.name[i]))\n",
    "\n",
    "              \n",
    "              \n",
    "if __name__ == '__main__': #运行程序\n",
    "    main()\n",
    "    print('全部完成！')\n"
   ]
  },
  {
   "cell_type": "code",
   "execution_count": 13,
   "metadata": {},
   "outputs": [
    {
     "name": "stdout",
     "output_type": "stream",
     "text": [
      "ERROR: Could not find file <ipython-input-13-2b5b214cbaed>\n",
      "NOTE: %mprun can only be used on functions defined in physical files, and not in the IPython environment.\n"
     ]
    }
   ],
   "source": [
    "import tushare as ts\n",
    "import pandas as pd\n",
    "\n",
    "from memory_profiler import profile\n",
    "\n",
    "@profile\n",
    "\n",
    "def stock_basic():\n",
    "\n",
    "    pro = ts.pro_api('5ae1c2cea081bde0fb95295e7bfa302c5b87cc7bb967ccd5c3cee38a') #''的token可以到“https://tushare.pro/”注册获得    \n",
    "    pool = pro.stock_basic(exchange = '', list_status = 'L', adj = 'qfq')\n",
    "\n",
    "    pool.to_csv('stock_basic.csv', index = False, encoding='utf_8_sig') #保存文件\n",
    "    \n",
    "if __name__ == '__main__': #运行程序\n",
    "    stock_basic()"
   ]
  },
  {
   "cell_type": "code",
   "execution_count": 17,
   "metadata": {},
   "outputs": [],
   "source": [
    "import gc\n",
    "\n",
    "def test1():\n",
    "    c = []\n",
    "    a = [1, 2, 3] * (2 ** 20)\n",
    "    b = [1] * (2 ** 20)\n",
    "    c.extend(a)\n",
    "    c.extend(b)\n",
    "    del b\n",
    "    del c\n",
    "    for x in locals().keys():\n",
    "        del locals()[x]\n",
    "    gc.collect()\n",
    "\n",
    "if __name__ == \"__main__\":\n",
    "    test1()"
   ]
  },
  {
   "cell_type": "code",
   "execution_count": null,
   "metadata": {},
   "outputs": [],
   "source": []
  }
 ],
 "metadata": {
  "kernelspec": {
   "display_name": "Python 3",
   "language": "python",
   "name": "python3"
  },
  "language_info": {
   "codemirror_mode": {
    "name": "ipython",
    "version": 3
   },
   "file_extension": ".py",
   "mimetype": "text/x-python",
   "name": "python",
   "nbconvert_exporter": "python",
   "pygments_lexer": "ipython3",
   "version": "3.7.5"
  }
 },
 "nbformat": 4,
 "nbformat_minor": 2
}
