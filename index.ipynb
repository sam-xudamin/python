{
 "cells": [
  {
   "cell_type": "code",
   "execution_count": 1,
   "metadata": {},
   "outputs": [],
   "source": [
    "import tushare as ts\n",
    "\n",
    "pro = ts.pro_api('6858effdee9ed9ac0657625593e785aa8069b84b0de9016e5d3cdb3e') \n",
    "df = pro.query('daily', ts_code = '000001.SZ') \n"
   ]
  },
  {
   "cell_type": "code",
   "execution_count": 3,
   "metadata": {},
   "outputs": [],
   "source": [
    "import pandas as pd\n",
    "\n",
    "df = pd.DataFrame(df)\n",
    "\n",
    "df.to_csv('000001SZ.csv')"
   ]
  },
  {
   "cell_type": "code",
   "execution_count": 99,
   "metadata": {},
   "outputs": [],
   "source": [
    "import numpy as np\n",
    "from sklearn import preprocessing\n",
    "\n",
    "def general_data(df, forecast_out):\n",
    "    df = df[['open', 'high', 'low', 'close', 'vol']] \n",
    "    df['HL_PCT'] = (df['high'] - df['close']) / df['close'] * 100.0 \n",
    "    df['PCT_change'] = (df['close'] - df['open']) / df['open'] * 100.0 \n",
    "        \n",
    "    df = df[['close', 'HL_PCT', 'PCT_change', 'vol']] \n",
    "       \n",
    "    df.fillna(-99999, inplace=True)\n",
    "    df['label'] = df['close'].shift(-forecast_out) \n",
    "    \n",
    "    X = np.array(df.drop(['label'], 1)) \n",
    "    X = preprocessing.scale(X) \n",
    "        \n",
    "    X_lately = X[0:forecast_out,:] \n",
    "\n",
    "    X = X[:-forecast_out]\n",
    "        \n",
    "    df.dropna(inplace=True) \n",
    "    y = np.array(df['label'])\n",
    "                        \n",
    "    return X, y, X_lately"
   ]
  },
  {
   "cell_type": "code",
   "execution_count": 114,
   "metadata": {},
   "outputs": [
    {
     "name": "stderr",
     "output_type": "stream",
     "text": [
      "d:\\python\\python37\\lib\\site-packages\\ipykernel_launcher.py:6: SettingWithCopyWarning: \n",
      "A value is trying to be set on a copy of a slice from a DataFrame.\n",
      "Try using .loc[row_indexer,col_indexer] = value instead\n",
      "\n",
      "See the caveats in the documentation: http://pandas.pydata.org/pandas-docs/stable/user_guide/indexing.html#returning-a-view-versus-a-copy\n",
      "  \n",
      "d:\\python\\python37\\lib\\site-packages\\ipykernel_launcher.py:7: SettingWithCopyWarning: \n",
      "A value is trying to be set on a copy of a slice from a DataFrame.\n",
      "Try using .loc[row_indexer,col_indexer] = value instead\n",
      "\n",
      "See the caveats in the documentation: http://pandas.pydata.org/pandas-docs/stable/user_guide/indexing.html#returning-a-view-versus-a-copy\n",
      "  import sys\n"
     ]
    }
   ],
   "source": [
    "X, y, X_lately = general_data(df, 7)"
   ]
  },
  {
   "cell_type": "code",
   "execution_count": 109,
   "metadata": {},
   "outputs": [
    {
     "data": {
      "text/plain": [
       "array([[ 0.11987231, -0.51923416, -0.41947328,  0.89619953],\n",
       "       [ 0.14665364, -1.10791402,  0.94117834,  1.87339088],\n",
       "       [ 0.09309097, -0.60416627,  0.80885772,  1.81980532],\n",
       "       ...,\n",
       "       [ 0.00487011,  0.46181549, -0.13272543, -0.70805551],\n",
       "       [-0.01088362, -0.00624666,  0.02214876, -0.73686472],\n",
       "       [-0.01088362, -0.24573956, -0.4411841 , -0.73003052]])"
      ]
     },
     "execution_count": 109,
     "metadata": {},
     "output_type": "execute_result"
    }
   ],
   "source": [
    "X"
   ]
  },
  {
   "cell_type": "code",
   "execution_count": 110,
   "metadata": {},
   "outputs": [],
   "source": [
    "from sklearn import model_selection, svm\n",
    "from sklearn.linear_model import LinearRegression\n",
    "\n",
    "def general_linear(X, y, X_lately):\n",
    "    \n",
    "    accuracy = 0\n",
    "    forecast_set = []\n",
    "    \n",
    "    X_train, X_test, y_train, y_test = model_selection.train_test_split(X, y, test_size=0.2) # 把X和y分成训练和测试两部分\n",
    "    \n",
    "    clf = LinearRegression(n_jobs=-1)\n",
    "    clf.fit(X_train, y_train)\n",
    "    \n",
    "    \n",
    "    accuracy = clf.score(X_test, y_test)\n",
    "    forecast_set = clf.predict(X_lately)\n",
    "          \n",
    "    return accuracy, forecast_set"
   ]
  },
  {
   "cell_type": "code",
   "execution_count": 115,
   "metadata": {},
   "outputs": [],
   "source": [
    "accuracy, forecast_set = general_linear(X, y, X_lately)"
   ]
  },
  {
   "cell_type": "code",
   "execution_count": 116,
   "metadata": {},
   "outputs": [
    {
     "data": {
      "text/plain": [
       "array([15.1907    , 14.79259351, 14.52862888, 14.60411149, 14.63444771,\n",
       "       14.40598741, 14.29893824])"
      ]
     },
     "execution_count": 116,
     "metadata": {},
     "output_type": "execute_result"
    }
   ],
   "source": [
    "forecast_set"
   ]
  }
 ],
 "metadata": {
  "kernelspec": {
   "display_name": "Python 3",
   "language": "python",
   "name": "python3"
  },
  "language_info": {
   "codemirror_mode": {
    "name": "ipython",
    "version": 3
   },
   "file_extension": ".py",
   "mimetype": "text/x-python",
   "name": "python",
   "nbconvert_exporter": "python",
   "pygments_lexer": "ipython3",
   "version": "3.7.5"
  }
 },
 "nbformat": 4,
 "nbformat_minor": 2
}
